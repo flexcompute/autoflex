{
 "cells": [
  {
   "cell_type": "code",
   "execution_count": 2,
   "id": "ecd08dd3-75f6-4293-8ee4-3ece6f0e0507",
   "metadata": {},
   "outputs": [],
   "source": [
    "import pydantic as pd2\n",
    "import pydantic as pd\n",
    "import pydantic.v1 as pd1\n",
    "import sys"
   ]
  },
  {
   "cell_type": "markdown",
   "id": "d9a7419c-8c9e-4352-97d4-ca756fd879a9",
   "metadata": {},
   "source": [
    "In order to understand the performance cost of using a docs schema, let's write some tests:"
   ]
  },
  {
   "cell_type": "code",
   "execution_count": 3,
   "id": "aec54c32-758f-48d2-8ab0-53515c21384f",
   "metadata": {},
   "outputs": [
    {
     "data": {
      "text/plain": [
       "MyBaseClass(a='', b='')"
      ]
     },
     "execution_count": 3,
     "metadata": {},
     "output_type": "execute_result"
    }
   ],
   "source": [
    "class MyBaseClass(pd.BaseModel):\n",
    "    \"\"\"\n",
    "    Test documentation\n",
    "    \"\"\"\n",
    "    \n",
    "    a: str = \"\"\n",
    "    \"\"\"\n",
    "    Example Description\n",
    "    \"\"\"\n",
    "    \n",
    "    b: str = pd.Field(default=\"\", description=\"Example Description\")\n",
    "\n",
    "our_class = MyBaseClass()\n",
    "our_class"
   ]
  },
  {
   "cell_type": "markdown",
   "id": "a71b16ce-7fc9-408a-83b6-c52ce6983f97",
   "metadata": {},
   "source": [
    "So the goal is that we want a function that can compile into a structure."
   ]
  },
  {
   "cell_type": "code",
   "execution_count": 4,
   "id": "3291f36f-042a-4e7e-88e0-59a99e3fe574",
   "metadata": {},
   "outputs": [
    {
     "name": "stdout",
     "output_type": "stream",
     "text": [
      "a_class_attribute memory: 49\n",
      "b_class_attribute memory: 49\n"
     ]
    }
   ],
   "source": [
    "# Calculate the memory cost\n",
    "a_class_attribute_memory_cost = sys.getsizeof(our_class.a)\n",
    "b_class_attribute_memory_cost = sys.getsizeof(our_class.b)\n",
    "print(f\"a_class_attribute memory: {a_class_attribute_memory_cost}\")\n",
    "print(f\"b_class_attribute memory: {b_class_attribute_memory_cost}\")"
   ]
  },
  {
   "cell_type": "code",
   "execution_count": 5,
   "id": "0218d67d-1f97-4b35-bf1d-837be832c76c",
   "metadata": {},
   "outputs": [
    {
     "data": {
      "text/plain": [
       "{'a': str, 'b': str}"
      ]
     },
     "execution_count": 5,
     "metadata": {},
     "output_type": "execute_result"
    }
   ],
   "source": [
    "our_class.__annotations__"
   ]
  },
  {
   "cell_type": "markdown",
   "id": "f44d3dd1-e4f0-4e65-9ab4-3bb36d859cd9",
   "metadata": {},
   "source": [
    "So there's a few options of what we can do here. We could create a higher-dimensional `pd.Field` that can be compiled into a better documentation representation which is more complete."
   ]
  },
  {
   "cell_type": "code",
   "execution_count": 6,
   "id": "aef7a6ed-057b-4eef-917c-32df69e667b2",
   "metadata": {},
   "outputs": [],
   "source": [
    "example_default = \"\"\n",
    "example_basic_field = pd.Field(default=\"\")"
   ]
  },
  {
   "cell_type": "markdown",
   "id": "6be81465-6744-467e-b139-cebc822925df",
   "metadata": {},
   "source": [
    "Let's analyse the memory aspect of this data representation:"
   ]
  },
  {
   "cell_type": "code",
   "execution_count": 7,
   "id": "ad1cb4cf-6718-42e0-9855-12793132a1a2",
   "metadata": {},
   "outputs": [
    {
     "name": "stdout",
     "output_type": "stream",
     "text": [
      "a_class_attribute memory: 49\n",
      "b_class_attribute memory: 216\n"
     ]
    }
   ],
   "source": [
    "# Calculate the memory cost\n",
    "default_string_memory_cost = sys.getsizeof(example_default)\n",
    "default_field_memory_cost = sys.getsizeof(example_basic_field)\n",
    "print(f\"a_class_attribute memory: {default_string_memory_cost}\")\n",
    "print(f\"b_class_attribute memory: {default_field_memory_cost}\")"
   ]
  },
  {
   "cell_type": "markdown",
   "id": "f3722d38-9675-44a1-a946-3b8c50773765",
   "metadata": {},
   "source": [
    "So we can clearly tell there's a difference here. It's interesting because we can tell that even though the actual declaration on its own does have 4x higher memory cost, at the instantiation default level it is equivalent.\n",
    "\n",
    "So if anything we can look inside annotations of each class and compile the documentation from there."
   ]
  },
  {
   "cell_type": "code",
   "execution_count": 8,
   "id": "6d45eb57-741a-478f-a899-7ca52f6b970c",
   "metadata": {},
   "outputs": [
    {
     "data": {
      "text/plain": [
       "FieldInfo(annotation=NoneType, required=False, default='')"
      ]
     },
     "execution_count": 8,
     "metadata": {},
     "output_type": "execute_result"
    }
   ],
   "source": [
    "example_basic_field"
   ]
  },
  {
   "cell_type": "code",
   "execution_count": 9,
   "id": "7d817220-2bef-43c3-ac7a-ae15d99fe5e6",
   "metadata": {},
   "outputs": [
    {
     "data": {
      "text/plain": [
       "{'annotation': 'type[Any] | None',\n",
       " 'default': 'Any',\n",
       " 'default_factory': 'typing.Callable[[], Any] | None',\n",
       " 'alias': 'str | None',\n",
       " 'alias_priority': 'int | None',\n",
       " 'validation_alias': 'str | AliasPath | AliasChoices | None',\n",
       " 'serialization_alias': 'str | None',\n",
       " 'title': 'str | None',\n",
       " 'field_title_generator': 'typing.Callable[[str, FieldInfo], str] | None',\n",
       " 'description': 'str | None',\n",
       " 'examples': 'list[Any] | None',\n",
       " 'exclude': 'bool | None',\n",
       " 'discriminator': 'str | types.Discriminator | None',\n",
       " 'deprecated': 'Deprecated | str | bool | None',\n",
       " 'json_schema_extra': 'JsonDict | typing.Callable[[JsonDict], None] | None',\n",
       " 'frozen': 'bool | None',\n",
       " 'validate_default': 'bool | None',\n",
       " 'repr': 'bool',\n",
       " 'init': 'bool | None',\n",
       " 'init_var': 'bool | None',\n",
       " 'kw_only': 'bool | None',\n",
       " 'metadata': 'list[Any]',\n",
       " 'metadata_lookup': 'ClassVar[dict[str, typing.Callable[[Any], Any] | None]]'}"
      ]
     },
     "execution_count": 9,
     "metadata": {},
     "output_type": "execute_result"
    }
   ],
   "source": [
    "example_basic_field.__annotations__"
   ]
  },
  {
   "cell_type": "code",
   "execution_count": 10,
   "id": "763ce5f5-2859-4405-b5b8-903d76583e7e",
   "metadata": {},
   "outputs": [],
   "source": [
    "import tidy3d"
   ]
  },
  {
   "cell_type": "code",
   "execution_count": 11,
   "id": "c33b3568-0ba5-418d-ac2d-b88b4ca7da9f",
   "metadata": {},
   "outputs": [
    {
     "data": {
      "text/plain": [
       "{'boundary_spec': 'BoundarySpec',\n",
       " 'courant': 'float',\n",
       " 'lumped_elements': 'Tuple[LumpedElementType, ...]',\n",
       " 'grid_spec': 'GridSpec',\n",
       " 'medium': 'MediumType3D',\n",
       " 'normalize_index': 'Union[pydantic.NonNegativeInt, None]',\n",
       " 'monitors': 'Tuple[annotate_type(MonitorType), ...]',\n",
       " 'sources': 'Tuple[annotate_type(SourceType), ...]',\n",
       " 'shutoff': 'pydantic.NonNegativeFloat',\n",
       " 'structures': 'Tuple[Structure, ...]',\n",
       " 'symmetry': 'Tuple[Symmetry, Symmetry, Symmetry]',\n",
       " 'run_time': 'Union[pydantic.PositiveFloat, RunTimeSpec]'}"
      ]
     },
     "execution_count": 11,
     "metadata": {},
     "output_type": "execute_result"
    }
   ],
   "source": [
    "tidy3d.Simulation.__annotations__"
   ]
  },
  {
   "cell_type": "markdown",
   "id": "4932b79c-6fc9-4d97-822f-1e2e36485c6b",
   "metadata": {},
   "source": [
    "The problem with this is that it only contains the types of the annotations, it does not contain the actual meaning. We can verify if this is the same for the attribute declaration"
   ]
  },
  {
   "cell_type": "code",
   "execution_count": 12,
   "id": "323ba61d-a050-470e-a8d0-554e89fc6568",
   "metadata": {},
   "outputs": [
    {
     "data": {
      "text/plain": [
       "{'a': str, 'b': str}"
      ]
     },
     "execution_count": 12,
     "metadata": {},
     "output_type": "execute_result"
    }
   ],
   "source": [
    "# our_class.a.__annotations__ # Doesn't work\n",
    "# our_class.b.__annotations__ # Doesn't work\n",
    "our_class.__annotations__"
   ]
  },
  {
   "cell_type": "markdown",
   "id": "4015acef-e336-4786-b707-aa3a83f5f1a0",
   "metadata": {},
   "source": [
    "So it is concievable we can overwrite the annotations of a class attribute. However, it is interesting that the field description is not directly accessible from the class instantiation.\n",
    "\n",
    "So we can improve the documentation based on assigning this type of elements. We could extract the class definition from there in principle. However, clearly we have an issue which is where does the actual documentation data get contained.\n",
    "\n",
    "We can extract the json schema defaults and variables from the `model_json_schema` attribute of the pydantic class."
   ]
  },
  {
   "cell_type": "code",
   "execution_count": 13,
   "id": "37bfd396-ae18-4041-905c-54ffcd1d08b7",
   "metadata": {},
   "outputs": [
    {
     "data": {
      "text/plain": [
       "{'description': 'Test documentation',\n",
       " 'properties': {'a': {'default': '', 'title': 'A', 'type': 'string'},\n",
       "  'b': {'default': '',\n",
       "   'description': 'Example Description',\n",
       "   'title': 'B',\n",
       "   'type': 'string'}},\n",
       " 'title': 'MyBaseClass',\n",
       " 'type': 'object'}"
      ]
     },
     "execution_count": 13,
     "metadata": {},
     "output_type": "execute_result"
    }
   ],
   "source": [
    "from pydantic.fields import FieldInfo\n",
    "from pydantic import BaseModel\n",
    "\n",
    "def check_json_schema_extra(field: FieldInfo) -> bool:\n",
    "    \"\"\"Check if the FieldInfo contains a 'json_schema_extra' parameter.\"\"\"\n",
    "    return hasattr(field, 'json_schema_extra') and field.json_schema_extra is not None\n",
    "\n",
    "\n",
    "\n",
    "def determine_pydantic_version_from_base_model(model: BaseModel):\n",
    "    \"\"\"Determine if a BaseModel is from Pydantic v1 or v2.\"\"\"\n",
    "    if hasattr(model, 'model_fields'):\n",
    "        return 2\n",
    "    elif hasattr(model, '__fields__'):\n",
    "        return 1\n",
    "    else:\n",
    "        raise ValueError(\"Unknown Pydantic version or incompatible BaseModel class.\")\n",
    "\n",
    "\n",
    "def get_field_infos(model: BaseModel):\n",
    "    \"\"\"Get all FieldInfo instances from a Pydantic model, compatible with v1 and v2.\"\"\"\n",
    "    version = determine_pydantic_version_from_base_model(model)\n",
    "\n",
    "    field_infos = []\n",
    "\n",
    "    # Handle Pydantic v2\n",
    "    if version == 2:\n",
    "        for field_name, field in model.model_fields.items():\n",
    "            field_infos.append(field)\n",
    "\n",
    "    # Handle Pydantic v1\n",
    "    elif version == 1:\n",
    "        for field_name, field in model.__fields__.items():\n",
    "            field_infos.append(field)\n",
    "\n",
    "    return field_infos\n",
    "\n",
    "our_class.model_json_schema()"
   ]
  },
  {
   "cell_type": "markdown",
   "id": "eeab0d0e-09a3-40fe-9a3b-036e8ffa8694",
   "metadata": {},
   "source": [
    "So when we go and define the parameters we want on our parameter table:"
   ]
  },
  {
   "cell_type": "markdown",
   "id": "40517e5d-abba-4c6e-bb45-84f2a4aa31d9",
   "metadata": {},
   "source": [
    "```\n",
    "Units\n",
    "Description\n",
    "Type\n",
    "Equation\n",
    "```"
   ]
  },
  {
   "cell_type": "markdown",
   "id": "d5fac3fe-87a4-4047-b94f-48da10909fb1",
   "metadata": {},
   "source": [
    "We need to then evaluate how to define this in a standardized way, and where this gets extracted from.\n",
    "\n",
    "So we've been analyzing the `__annotations__` and the provided json schema, it can be seen that a `pydantic.Field` contains hte example description and relevant information in the way we want. So it makes sense to create a higher dimensional version of the `pydantic.Field` and use this to annotate. We can then extract the information from there and compile each field in the particular format enabled by the extension. So we provide a full cycle of the implementation strategy."
   ]
  },
  {
   "cell_type": "code",
   "execution_count": 51,
   "id": "a7c5de53-46e1-45aa-b4ec-43d03bb9b582",
   "metadata": {},
   "outputs": [],
   "source": [
    "# help(pd.fields.Field)\n",
    "afield = pd.fields.Field(\n",
    "    json_schema_extra={\n",
    "        \"unit\": \"ms\",\n",
    "        \"math\": \"s + 1\"\n",
    "}\n",
    ")"
   ]
  },
  {
   "cell_type": "code",
   "execution_count": 55,
   "id": "5662e952-9c19-4808-9632-502659dc4165",
   "metadata": {},
   "outputs": [
    {
     "data": {
      "text/plain": [
       "<function pydantic.fields.FieldInfo._extract_metadata(annotation: 'type[Any] | None') -> 'tuple[type[Any] | None, list[Any]]'>"
      ]
     },
     "execution_count": 55,
     "metadata": {},
     "output_type": "execute_result"
    }
   ],
   "source": [
    "afield._extract_metadata"
   ]
  },
  {
   "cell_type": "code",
   "execution_count": 57,
   "id": "a887ffea-759f-46e0-aa2e-925192724c8a",
   "metadata": {},
   "outputs": [
    {
     "data": {
      "text/plain": [
       "{'a': FieldInfo(annotation=str, required=False, default=''),\n",
       " 'b': FieldInfo(annotation=str, required=False, default='', description='Example Description')}"
      ]
     },
     "execution_count": 57,
     "metadata": {},
     "output_type": "execute_result"
    }
   ],
   "source": [
    "our_class.model_fields"
   ]
  },
  {
   "cell_type": "code",
   "execution_count": 58,
   "id": "d89a9e28-c539-4800-8e2a-117854a7bd62",
   "metadata": {},
   "outputs": [
    {
     "data": {
      "text/plain": [
       "{'a': str, 'b': str}"
      ]
     },
     "execution_count": 58,
     "metadata": {},
     "output_type": "execute_result"
    }
   ],
   "source": [
    "our_class.__annotations__"
   ]
  },
  {
   "cell_type": "code",
   "execution_count": 63,
   "id": "f9392965-e8fa-4d1f-80e5-5b9f695d9e10",
   "metadata": {},
   "outputs": [
    {
     "data": {
      "text/plain": [
       "\"str(object='') -> str\\nstr(bytes_or_buffer[, encoding[, errors]]) -> str\\n\\nCreate a new string object from the given object. If encoding or\\nerrors is specified, then the object must expose a data buffer\\nthat will be decoded using the given encoding and error handler.\\nOtherwise, returns the result of object.__str__() (if defined)\\nor repr(object).\\nencoding defaults to sys.getdefaultencoding().\\nerrors defaults to 'strict'.\""
      ]
     },
     "execution_count": 63,
     "metadata": {},
     "output_type": "execute_result"
    }
   ],
   "source": [
    "our_class.a.__doc__"
   ]
  },
  {
   "cell_type": "code",
   "execution_count": 15,
   "id": "a7089d29-26cb-4c80-b32b-b25609d59481",
   "metadata": {},
   "outputs": [
    {
     "data": {
      "text/plain": [
       "['__annotations__',\n",
       " '__class__',\n",
       " '__delattr__',\n",
       " '__dir__',\n",
       " '__doc__',\n",
       " '__eq__',\n",
       " '__format__',\n",
       " '__ge__',\n",
       " '__getattribute__',\n",
       " '__getstate__',\n",
       " '__gt__',\n",
       " '__hash__',\n",
       " '__init__',\n",
       " '__init_subclass__',\n",
       " '__le__',\n",
       " '__lt__',\n",
       " '__module__',\n",
       " '__ne__',\n",
       " '__new__',\n",
       " '__pretty__',\n",
       " '__reduce__',\n",
       " '__reduce_ex__',\n",
       " '__repr__',\n",
       " '__repr_args__',\n",
       " '__repr_name__',\n",
       " '__repr_str__',\n",
       " '__rich_repr__',\n",
       " '__setattr__',\n",
       " '__sizeof__',\n",
       " '__slotnames__',\n",
       " '__slots__',\n",
       " '__str__',\n",
       " '__subclasshook__',\n",
       " '_attributes_set',\n",
       " '_collect_metadata',\n",
       " '_extract_metadata',\n",
       " '_from_dataclass_field',\n",
       " 'alias',\n",
       " 'alias_priority',\n",
       " 'annotation',\n",
       " 'apply_typevars_map',\n",
       " 'default',\n",
       " 'default_factory',\n",
       " 'deprecated',\n",
       " 'deprecation_message',\n",
       " 'description',\n",
       " 'discriminator',\n",
       " 'examples',\n",
       " 'exclude',\n",
       " 'field_title_generator',\n",
       " 'from_annotated_attribute',\n",
       " 'from_annotation',\n",
       " 'from_field',\n",
       " 'frozen',\n",
       " 'get_default',\n",
       " 'init',\n",
       " 'init_var',\n",
       " 'is_required',\n",
       " 'json_schema_extra',\n",
       " 'kw_only',\n",
       " 'merge_field_infos',\n",
       " 'metadata',\n",
       " 'metadata_lookup',\n",
       " 'rebuild_annotation',\n",
       " 'repr',\n",
       " 'serialization_alias',\n",
       " 'title',\n",
       " 'validate_default',\n",
       " 'validation_alias']"
      ]
     },
     "execution_count": 15,
     "metadata": {},
     "output_type": "execute_result"
    }
   ],
   "source": [
    "test_extra_fieldinfo = pd.fields.FieldInfo(test=1)\n",
    "dir(test_extra_fieldinfo)"
   ]
  },
  {
   "cell_type": "code",
   "execution_count": 44,
   "id": "69de16a0-2002-49eb-9be8-4c15b879b41e",
   "metadata": {},
   "outputs": [
    {
     "data": {
      "text/plain": [
       "FieldInfo(annotation=NoneType, required=True)"
      ]
     },
     "execution_count": 44,
     "metadata": {},
     "output_type": "execute_result"
    }
   ],
   "source": [
    "test_extra_fieldinfo"
   ]
  },
  {
   "cell_type": "code",
   "execution_count": 17,
   "id": "61fbb607-0b7b-43e6-932b-362d8b694ee7",
   "metadata": {
    "scrolled": true
   },
   "outputs": [
    {
     "name": "stdout",
     "output_type": "stream",
     "text": [
      "Help on class FieldInfo in module pydantic.fields:\n",
      "\n",
      "class FieldInfo(pydantic._internal._repr.Representation)\n",
      " |  FieldInfo(**kwargs: 'Unpack[_FieldInfoInputs]') -> 'None'\n",
      " |  \n",
      " |  This class holds information about a field.\n",
      " |  \n",
      " |  `FieldInfo` is used for any field definition regardless of whether the [`Field()`][pydantic.fields.Field]\n",
      " |  function is explicitly used.\n",
      " |  \n",
      " |  !!! warning\n",
      " |      You generally shouldn't be creating `FieldInfo` directly, you'll only need to use it when accessing\n",
      " |      [`BaseModel`][pydantic.main.BaseModel] `.model_fields` internals.\n",
      " |  \n",
      " |  Attributes:\n",
      " |      annotation: The type annotation of the field.\n",
      " |      default: The default value of the field.\n",
      " |      default_factory: The factory function used to construct the default for the field.\n",
      " |      alias: The alias name of the field.\n",
      " |      alias_priority: The priority of the field's alias.\n",
      " |      validation_alias: The validation alias of the field.\n",
      " |      serialization_alias: The serialization alias of the field.\n",
      " |      title: The title of the field.\n",
      " |      field_title_generator: A callable that takes a field name and returns title for it.\n",
      " |      description: The description of the field.\n",
      " |      examples: List of examples of the field.\n",
      " |      exclude: Whether to exclude the field from the model serialization.\n",
      " |      discriminator: Field name or Discriminator for discriminating the type in a tagged union.\n",
      " |      deprecated: A deprecation message, an instance of `warnings.deprecated` or the `typing_extensions.deprecated` backport,\n",
      " |          or a boolean. If `True`, a default deprecation message will be emitted when accessing the field.\n",
      " |      json_schema_extra: A dict or callable to provide extra JSON schema properties.\n",
      " |      frozen: Whether the field is frozen.\n",
      " |      validate_default: Whether to validate the default value of the field.\n",
      " |      repr: Whether to include the field in representation of the model.\n",
      " |      init: Whether the field should be included in the constructor of the dataclass.\n",
      " |      init_var: Whether the field should _only_ be included in the constructor of the dataclass, and not stored.\n",
      " |      kw_only: Whether the field should be a keyword-only argument in the constructor of the dataclass.\n",
      " |      metadata: List of metadata constraints.\n",
      " |  \n",
      " |  Method resolution order:\n",
      " |      FieldInfo\n",
      " |      pydantic._internal._repr.Representation\n",
      " |      builtins.object\n",
      " |  \n",
      " |  Methods defined here:\n",
      " |  \n",
      " |  __init__(self, **kwargs: 'Unpack[_FieldInfoInputs]') -> 'None'\n",
      " |      This class should generally not be initialized directly; instead, use the `pydantic.fields.Field` function\n",
      " |      or one of the constructor classmethods.\n",
      " |      \n",
      " |      See the signature of `pydantic.fields.Field` for more details about the expected arguments.\n",
      " |  \n",
      " |  __repr_args__(self) -> 'ReprArgs'\n",
      " |      Returns the attributes to show in __str__, __repr__, and __pretty__ this is generally overridden.\n",
      " |      \n",
      " |      Can either return:\n",
      " |      * name - value pairs, e.g.: `[('foo_name', 'foo'), ('bar_name', ['b', 'a', 'r'])]`\n",
      " |      * or, just values, e.g.: `[(None, 'foo'), (None, ['b', 'a', 'r'])]`\n",
      " |  \n",
      " |  apply_typevars_map(self, typevars_map: 'dict[Any, Any] | None', types_namespace: 'dict[str, Any] | None') -> 'None'\n",
      " |      Apply a `typevars_map` to the annotation.\n",
      " |      \n",
      " |      This method is used when analyzing parametrized generic types to replace typevars with their concrete types.\n",
      " |      \n",
      " |      This method applies the `typevars_map` to the annotation in place.\n",
      " |      \n",
      " |      Args:\n",
      " |          typevars_map: A dictionary mapping type variables to their concrete types.\n",
      " |          types_namespace (dict | None): A dictionary containing related types to the annotated type.\n",
      " |      \n",
      " |      See Also:\n",
      " |          pydantic._internal._generics.replace_types is used for replacing the typevars with\n",
      " |              their concrete types.\n",
      " |  \n",
      " |  get_default(self, *, call_default_factory: 'bool' = False) -> 'Any'\n",
      " |      Get the default value.\n",
      " |      \n",
      " |      We expose an option for whether to call the default_factory (if present), as calling it may\n",
      " |      result in side effects that we want to avoid. However, there are times when it really should\n",
      " |      be called (namely, when instantiating a model via `model_construct`).\n",
      " |      \n",
      " |      Args:\n",
      " |          call_default_factory: Whether to call the default_factory or not. Defaults to `False`.\n",
      " |      \n",
      " |      Returns:\n",
      " |          The default value, calling the default factory if requested or `None` if not set.\n",
      " |  \n",
      " |  is_required(self) -> 'bool'\n",
      " |      Check if the field is required (i.e., does not have a default value or factory).\n",
      " |      \n",
      " |      Returns:\n",
      " |          `True` if the field is required, `False` otherwise.\n",
      " |  \n",
      " |  rebuild_annotation(self) -> 'Any'\n",
      " |      Attempts to rebuild the original annotation for use in function signatures.\n",
      " |      \n",
      " |      If metadata is present, it adds it to the original annotation using\n",
      " |      `Annotated`. Otherwise, it returns the original annotation as-is.\n",
      " |      \n",
      " |      Note that because the metadata has been flattened, the original annotation\n",
      " |      may not be reconstructed exactly as originally provided, e.g. if the original\n",
      " |      type had unrecognized annotations, or was annotated with a call to `pydantic.Field`.\n",
      " |      \n",
      " |      Returns:\n",
      " |          The rebuilt annotation.\n",
      " |  \n",
      " |  ----------------------------------------------------------------------\n",
      " |  Static methods defined here:\n",
      " |  \n",
      " |  from_annotated_attribute(annotation: 'type[Any]', default: 'Any') -> 'FieldInfo'\n",
      " |      Create `FieldInfo` from an annotation with a default value.\n",
      " |      \n",
      " |      This is used in cases like the following:\n",
      " |      \n",
      " |      ```python\n",
      " |      import annotated_types\n",
      " |      from typing_extensions import Annotated\n",
      " |      \n",
      " |      import pydantic\n",
      " |      \n",
      " |      class MyModel(pydantic.BaseModel):\n",
      " |          foo: int = 4  # <-- like this\n",
      " |          bar: Annotated[int, annotated_types.Gt(4)] = 4  # <-- or this\n",
      " |          spam: Annotated[int, pydantic.Field(gt=4)] = 4  # <-- or this\n",
      " |      ```\n",
      " |      \n",
      " |      Args:\n",
      " |          annotation: The type annotation of the field.\n",
      " |          default: The default value of the field.\n",
      " |      \n",
      " |      Returns:\n",
      " |          A field object with the passed values.\n",
      " |  \n",
      " |  from_annotation(annotation: 'type[Any]') -> 'FieldInfo'\n",
      " |      Creates a `FieldInfo` instance from a bare annotation.\n",
      " |      \n",
      " |      This function is used internally to create a `FieldInfo` from a bare annotation like this:\n",
      " |      \n",
      " |      ```python\n",
      " |      import pydantic\n",
      " |      \n",
      " |      class MyModel(pydantic.BaseModel):\n",
      " |          foo: int  # <-- like this\n",
      " |      ```\n",
      " |      \n",
      " |      We also account for the case where the annotation can be an instance of `Annotated` and where\n",
      " |      one of the (not first) arguments in `Annotated` is an instance of `FieldInfo`, e.g.:\n",
      " |      \n",
      " |      ```python\n",
      " |      import annotated_types\n",
      " |      from typing_extensions import Annotated\n",
      " |      \n",
      " |      import pydantic\n",
      " |      \n",
      " |      class MyModel(pydantic.BaseModel):\n",
      " |          foo: Annotated[int, annotated_types.Gt(42)]\n",
      " |          bar: Annotated[int, pydantic.Field(gt=42)]\n",
      " |      ```\n",
      " |      \n",
      " |      Args:\n",
      " |          annotation: An annotation object.\n",
      " |      \n",
      " |      Returns:\n",
      " |          An instance of the field metadata.\n",
      " |  \n",
      " |  from_field(default: 'Any' = PydanticUndefined, **kwargs: 'Unpack[_FromFieldInfoInputs]') -> 'FieldInfo'\n",
      " |      Create a new `FieldInfo` object with the `Field` function.\n",
      " |      \n",
      " |      Args:\n",
      " |          default: The default value for the field. Defaults to Undefined.\n",
      " |          **kwargs: Additional arguments dictionary.\n",
      " |      \n",
      " |      Raises:\n",
      " |          TypeError: If 'annotation' is passed as a keyword argument.\n",
      " |      \n",
      " |      Returns:\n",
      " |          A new FieldInfo object with the given parameters.\n",
      " |      \n",
      " |      Example:\n",
      " |          This is how you can create a field with default value like this:\n",
      " |      \n",
      " |          ```python\n",
      " |          import pydantic\n",
      " |      \n",
      " |          class MyModel(pydantic.BaseModel):\n",
      " |              foo: int = pydantic.Field(4)\n",
      " |          ```\n",
      " |  \n",
      " |  merge_field_infos(*field_infos: 'FieldInfo', **overrides: 'Any') -> 'FieldInfo'\n",
      " |      Merge `FieldInfo` instances keeping only explicitly set attributes.\n",
      " |      \n",
      " |      Later `FieldInfo` instances override earlier ones.\n",
      " |      \n",
      " |      Returns:\n",
      " |          FieldInfo: A merged FieldInfo instance.\n",
      " |  \n",
      " |  ----------------------------------------------------------------------\n",
      " |  Readonly properties defined here:\n",
      " |  \n",
      " |  deprecation_message\n",
      " |      The deprecation message to be emitted, or `None` if not set.\n",
      " |  \n",
      " |  ----------------------------------------------------------------------\n",
      " |  Data descriptors defined here:\n",
      " |  \n",
      " |  alias\n",
      " |  \n",
      " |  alias_priority\n",
      " |  \n",
      " |  annotation\n",
      " |  \n",
      " |  default\n",
      " |  \n",
      " |  default_factory\n",
      " |  \n",
      " |  deprecated\n",
      " |  \n",
      " |  description\n",
      " |  \n",
      " |  discriminator\n",
      " |  \n",
      " |  examples\n",
      " |  \n",
      " |  exclude\n",
      " |  \n",
      " |  field_title_generator\n",
      " |  \n",
      " |  frozen\n",
      " |  \n",
      " |  init\n",
      " |  \n",
      " |  init_var\n",
      " |  \n",
      " |  json_schema_extra\n",
      " |  \n",
      " |  kw_only\n",
      " |  \n",
      " |  metadata\n",
      " |  \n",
      " |  repr\n",
      " |  \n",
      " |  serialization_alias\n",
      " |  \n",
      " |  title\n",
      " |  \n",
      " |  validate_default\n",
      " |  \n",
      " |  validation_alias\n",
      " |  \n",
      " |  ----------------------------------------------------------------------\n",
      " |  Data and other attributes defined here:\n",
      " |  \n",
      " |  __annotations__ = {'alias': 'str | None', 'alias_priority': 'int | Non...\n",
      " |  \n",
      " |  __slotnames__ = ['annotation', 'default', 'default_factory', 'alias', ...\n",
      " |  \n",
      " |  metadata_lookup = {'allow_inf_nan': None, 'coerce_numbers_to_str': Non...\n",
      " |  \n",
      " |  ----------------------------------------------------------------------\n",
      " |  Methods inherited from pydantic._internal._repr.Representation:\n",
      " |  \n",
      " |  __pretty__(self, fmt: 'typing.Callable[[Any], Any]', **kwargs: 'Any') -> 'typing.Generator[Any, None, None]'\n",
      " |      Used by devtools (https://python-devtools.helpmanual.io/) to pretty print objects.\n",
      " |  \n",
      " |  __repr__(self) -> 'str'\n",
      " |      Return repr(self).\n",
      " |  \n",
      " |  __repr_name__(self) -> 'str'\n",
      " |      Name of the instance's class, used in __repr__.\n",
      " |  \n",
      " |  __repr_str__(self, join_str: 'str') -> 'str'\n",
      " |  \n",
      " |  __rich_repr__(self) -> 'RichReprResult'\n",
      " |      Used by Rich (https://rich.readthedocs.io/en/stable/pretty.html) to pretty print objects.\n",
      " |  \n",
      " |  __str__(self) -> 'str'\n",
      " |      Return str(self).\n",
      "\n"
     ]
    }
   ],
   "source": [
    "help(pd.fields.FieldInfo)"
   ]
  },
  {
   "cell_type": "code",
   "execution_count": 18,
   "id": "b4a9de07-0f79-4fc3-b3e2-a33187e66142",
   "metadata": {},
   "outputs": [],
   "source": [
    "class PhysicalParameterV1(pd1.BaseModel):\n",
    "    units: str = \"\"\n",
    "\n",
    "class PhysicalParameterV2(pd2.BaseModel):\n",
    "    units: str = \"\""
   ]
  },
  {
   "cell_type": "code",
   "execution_count": 19,
   "id": "5f6541f0-7ee6-47a2-97d0-a7a6574d9e0e",
   "metadata": {},
   "outputs": [],
   "source": [
    "# help(pd.fields.Field)\n",
    "# pd.fields.Field(extra=PhysicalParameter())"
   ]
  },
  {
   "cell_type": "code",
   "execution_count": 20,
   "id": "46d6cbba-f04a-424e-afa6-8db0fe85fc4c",
   "metadata": {},
   "outputs": [
    {
     "data": {
      "text/plain": [
       "[ModelField(name='units', type=str, required=False, default='')]"
      ]
     },
     "execution_count": 20,
     "metadata": {},
     "output_type": "execute_result"
    }
   ],
   "source": [
    "get_field_infos(PhysicalParameterV1)"
   ]
  },
  {
   "cell_type": "code",
   "execution_count": 21,
   "id": "d47f14ff-3aaf-4654-9f2d-969c6ab27162",
   "metadata": {},
   "outputs": [
    {
     "data": {
      "text/plain": [
       "[FieldInfo(annotation=str, required=False, default='')]"
      ]
     },
     "execution_count": 21,
     "metadata": {},
     "output_type": "execute_result"
    }
   ],
   "source": [
    "get_field_infos(PhysicalParameterV2)"
   ]
  },
  {
   "cell_type": "code",
   "execution_count": 22,
   "id": "3f60ed00-d8b6-4d27-93bb-bbb7b72f2392",
   "metadata": {},
   "outputs": [],
   "source": [
    "class PhysicalFieldInfo(pd.fields.FieldInfo):\n",
    "    a: PhysicalParameterV1"
   ]
  },
  {
   "cell_type": "code",
   "execution_count": 23,
   "id": "1f9660a7-358b-4b79-9362-a6f58b5b1bd8",
   "metadata": {},
   "outputs": [
    {
     "data": {
      "text/plain": [
       "PhysicalFieldInfo(annotation=NoneType, required=True)"
      ]
     },
     "execution_count": 23,
     "metadata": {},
     "output_type": "execute_result"
    }
   ],
   "source": [
    "PhysicalFieldInfo()"
   ]
  },
  {
   "cell_type": "code",
   "execution_count": 24,
   "id": "bd8c92de-8168-490f-a368-8b2c12e2ebef",
   "metadata": {},
   "outputs": [
    {
     "data": {
      "text/plain": [
       "PhysicalFieldInfo(annotation=NoneType, required=True)"
      ]
     },
     "execution_count": 24,
     "metadata": {},
     "output_type": "execute_result"
    }
   ],
   "source": [
    "PhysicalFieldInfo()"
   ]
  },
  {
   "cell_type": "code",
   "execution_count": 68,
   "id": "357d5275-e6ad-48bc-8727-fcc6e09a3e55",
   "metadata": {},
   "outputs": [
    {
     "ename": "TypeError",
     "evalue": "ExampleModel.__get_pydantic_core_schema__() takes 1 positional argument but 3 were given",
     "output_type": "error",
     "traceback": [
      "\u001b[0;31m---------------------------------------------------------------------------\u001b[0m",
      "\u001b[0;31mTypeError\u001b[0m                                 Traceback (most recent call last)",
      "Cell \u001b[0;32mIn[68], line 450\u001b[0m\n\u001b[1;32m    447\u001b[0m     math: SymbolicTypes \u001b[38;5;241m=\u001b[39m \u001b[38;5;124m\"\u001b[39m\u001b[38;5;124m\"\u001b[39m\n\u001b[1;32m    449\u001b[0m \u001b[38;5;66;03m# Assuming you have a Pydantic model like this:\u001b[39;00m\n\u001b[0;32m--> 450\u001b[0m \u001b[43m\u001b[49m\u001b[38;5;28;43;01mclass\u001b[39;49;00m\u001b[43m \u001b[49m\u001b[38;5;21;43;01mExampleModel\u001b[39;49;00m\u001b[43m(\u001b[49m\u001b[43mBaseModel\u001b[49m\u001b[43m)\u001b[49m\u001b[43m:\u001b[49m\n\u001b[1;32m    451\u001b[0m \u001b[43m    \u001b[49m\u001b[43mname\u001b[49m\u001b[43m:\u001b[49m\u001b[43m \u001b[49m\u001b[38;5;28;43mstr\u001b[39;49m\n\u001b[1;32m    452\u001b[0m \u001b[43m    \u001b[49m\u001b[43mage\u001b[49m\u001b[43m:\u001b[49m\u001b[43m \u001b[49m\u001b[38;5;28;43mint\u001b[39;49m\u001b[43m \u001b[49m\u001b[38;5;241;43m=\u001b[39;49m\u001b[43m \u001b[49m\u001b[43mField\u001b[49m\u001b[43m(\u001b[49m\u001b[38;5;241;43m.\u001b[39;49m\u001b[38;5;241;43m.\u001b[39;49m\u001b[38;5;241;43m.\u001b[39;49m\u001b[43m,\u001b[49m\u001b[43m \u001b[49m\u001b[43mge\u001b[49m\u001b[38;5;241;43m=\u001b[39;49m\u001b[38;5;241;43m0\u001b[39;49m\u001b[43m)\u001b[49m\n",
      "File \u001b[0;32m~/flexcompute/autoflex/.venv/lib/python3.11/site-packages/pydantic/_internal/_model_construction.py:224\u001b[0m, in \u001b[0;36mModelMetaclass.__new__\u001b[0;34m(mcs, cls_name, bases, namespace, __pydantic_generic_metadata__, __pydantic_reset_parent_namespace__, _create_model_module, **kwargs)\u001b[0m\n\u001b[1;32m    221\u001b[0m \u001b[38;5;28;01mif\u001b[39;00m config_wrapper\u001b[38;5;241m.\u001b[39mfrozen \u001b[38;5;129;01mand\u001b[39;00m \u001b[38;5;124m'\u001b[39m\u001b[38;5;124m__hash__\u001b[39m\u001b[38;5;124m'\u001b[39m \u001b[38;5;129;01mnot\u001b[39;00m \u001b[38;5;129;01min\u001b[39;00m namespace:\n\u001b[1;32m    222\u001b[0m     set_default_hash_func(\u001b[38;5;28mcls\u001b[39m, bases)\n\u001b[0;32m--> 224\u001b[0m \u001b[43mcomplete_model_class\u001b[49m\u001b[43m(\u001b[49m\n\u001b[1;32m    225\u001b[0m \u001b[43m    \u001b[49m\u001b[38;5;28;43mcls\u001b[39;49m\u001b[43m,\u001b[49m\n\u001b[1;32m    226\u001b[0m \u001b[43m    \u001b[49m\u001b[43mcls_name\u001b[49m\u001b[43m,\u001b[49m\n\u001b[1;32m    227\u001b[0m \u001b[43m    \u001b[49m\u001b[43mconfig_wrapper\u001b[49m\u001b[43m,\u001b[49m\n\u001b[1;32m    228\u001b[0m \u001b[43m    \u001b[49m\u001b[43mraise_errors\u001b[49m\u001b[38;5;241;43m=\u001b[39;49m\u001b[38;5;28;43;01mFalse\u001b[39;49;00m\u001b[43m,\u001b[49m\n\u001b[1;32m    229\u001b[0m \u001b[43m    \u001b[49m\u001b[43mtypes_namespace\u001b[49m\u001b[38;5;241;43m=\u001b[39;49m\u001b[43mtypes_namespace\u001b[49m\u001b[43m,\u001b[49m\n\u001b[1;32m    230\u001b[0m \u001b[43m    \u001b[49m\u001b[43mcreate_model_module\u001b[49m\u001b[38;5;241;43m=\u001b[39;49m\u001b[43m_create_model_module\u001b[49m\u001b[43m,\u001b[49m\n\u001b[1;32m    231\u001b[0m \u001b[43m\u001b[49m\u001b[43m)\u001b[49m\n\u001b[1;32m    233\u001b[0m \u001b[38;5;66;03m# If this is placed before the complete_model_class call above,\u001b[39;00m\n\u001b[1;32m    234\u001b[0m \u001b[38;5;66;03m# the generic computed fields return type is set to PydanticUndefined\u001b[39;00m\n\u001b[1;32m    235\u001b[0m \u001b[38;5;28mcls\u001b[39m\u001b[38;5;241m.\u001b[39mmodel_computed_fields \u001b[38;5;241m=\u001b[39m {k: v\u001b[38;5;241m.\u001b[39minfo \u001b[38;5;28;01mfor\u001b[39;00m k, v \u001b[38;5;129;01min\u001b[39;00m \u001b[38;5;28mcls\u001b[39m\u001b[38;5;241m.\u001b[39m__pydantic_decorators__\u001b[38;5;241m.\u001b[39mcomputed_fields\u001b[38;5;241m.\u001b[39mitems()}\n",
      "File \u001b[0;32m~/flexcompute/autoflex/.venv/lib/python3.11/site-packages/pydantic/_internal/_model_construction.py:577\u001b[0m, in \u001b[0;36mcomplete_model_class\u001b[0;34m(cls, cls_name, config_wrapper, raise_errors, types_namespace, create_model_module)\u001b[0m\n\u001b[1;32m    574\u001b[0m     \u001b[38;5;28;01mreturn\u001b[39;00m \u001b[38;5;28;01mFalse\u001b[39;00m\n\u001b[1;32m    576\u001b[0m \u001b[38;5;28;01mtry\u001b[39;00m:\n\u001b[0;32m--> 577\u001b[0m     schema \u001b[38;5;241m=\u001b[39m \u001b[38;5;28;43mcls\u001b[39;49m\u001b[38;5;241;43m.\u001b[39;49m\u001b[43m__get_pydantic_core_schema__\u001b[49m\u001b[43m(\u001b[49m\u001b[38;5;28;43mcls\u001b[39;49m\u001b[43m,\u001b[49m\u001b[43m \u001b[49m\u001b[43mhandler\u001b[49m\u001b[43m)\u001b[49m\n\u001b[1;32m    578\u001b[0m \u001b[38;5;28;01mexcept\u001b[39;00m PydanticUndefinedAnnotation \u001b[38;5;28;01mas\u001b[39;00m e:\n\u001b[1;32m    579\u001b[0m     \u001b[38;5;28;01mif\u001b[39;00m raise_errors:\n",
      "\u001b[0;31mTypeError\u001b[0m: ExampleModel.__get_pydantic_core_schema__() takes 1 positional argument but 3 were given"
     ]
    }
   ],
   "source": [
    "from __future__ import annotations\n",
    "\n",
    "import pydoc\n",
    "import warnings\n",
    "from collections import defaultdict\n",
    "from typing import Any, Callable, Dict, List, Optional, Union, Type, TypeVar\n",
    "\n",
    "from pydantic import BaseModel, ConfigDict, create_model, Field\n",
    "from pydantic.fields import FieldInfo\n",
    "from typing_extensions import TypeGuard\n",
    "\n",
    "# Define constants\n",
    "ASTERISK_FIELD_NAME = 'all fields'\n",
    "\n",
    "# Define type aliases for clarity\n",
    "SymbolicTypes = Union[str, Dict[str, Any]]\n",
    "UnitTypes = Union[str, Dict[str, Any]]\n",
    "PropertyTypes = Union[Dict[str, Any], Dict[str, Any]]  # Adjust as needed based on actual Property models\n",
    "\n",
    "# ----------------------------\n",
    "# Helper Functions and Types\n",
    "# ----------------------------\n",
    "\n",
    "def is_pydantic_model(obj: Any) -> TypeGuard[Type[BaseModel]]:\n",
    "    \"\"\"Determine if the object is a valid Pydantic model.\"\"\"\n",
    "    try:\n",
    "        return issubclass(obj, BaseModel)\n",
    "    except TypeError:\n",
    "        return False\n",
    "\n",
    "\n",
    "def is_pydantic_field(parent: Any, field_name: str) -> bool:\n",
    "    \"\"\"Determine if the given `field_name` is a Pydantic field of the `parent` model.\"\"\"\n",
    "    if not is_pydantic_model(parent):\n",
    "        return False\n",
    "    return field_name in parent.model_fields\n",
    "\n",
    "\n",
    "def get_field_names(model: Type[BaseModel]) -> List[str]:\n",
    "    \"\"\"Return the field names of the Pydantic model while keeping ordering.\"\"\"\n",
    "    return list(model.model_fields.keys())\n",
    "\n",
    "\n",
    "def get_field_info(model: Type[BaseModel], name: str) -> FieldInfo:\n",
    "    \"\"\"Get the instance of `FieldInfo` for the given field `name`.\"\"\"\n",
    "    return model.model_fields[name]\n",
    "\n",
    "\n",
    "def get_alias_or_name(model: Type[BaseModel], field_name: str) -> str:\n",
    "    \"\"\"Get the alias of a Pydantic field if set; otherwise, return the field name.\"\"\"\n",
    "    if field_name == ASTERISK_FIELD_NAME:\n",
    "        return field_name\n",
    "    alias = get_field_info(model, field_name).alias\n",
    "    return alias if alias is not None else field_name\n",
    "\n",
    "\n",
    "def get_property_from_field_info(model: Type[BaseModel], field_name: str, property_name: str) -> Any:\n",
    "    \"\"\"Get a specific property value from Pydantic's `FieldInfo`.\"\"\"\n",
    "    field = get_field_info(model, field_name)\n",
    "    return getattr(field, property_name, None)\n",
    "\n",
    "\n",
    "def _get_meta_items(meta_class: Any) -> Dict[str, Any]:\n",
    "    \"\"\"Helper method to extract constraint names and values from different\n",
    "    Pydantic Metadata objects such as `pydantic.types.Strict`.\"\"\"\n",
    "    try:\n",
    "        return meta_class.__dataclass_fields__\n",
    "    except AttributeError:\n",
    "        return meta_class.__dict__\n",
    "\n",
    "\n",
    "def get_constraints(model: Type[BaseModel], field_name: str) -> Dict[str, Any]:\n",
    "    \"\"\"Get constraints for the given `field_name`.\"\"\"\n",
    "    metadata = model.model_fields[field_name].metadata\n",
    "    available = [meta for meta in metadata if meta is not None]\n",
    "\n",
    "    constraints = {}\n",
    "    for meta in available:\n",
    "        meta_items = _get_meta_items(meta)\n",
    "        for key in meta_items:\n",
    "            attr = getattr(meta, key, None)\n",
    "            if attr is not None:\n",
    "                constraints[key] = attr\n",
    "    return constraints\n",
    "\n",
    "\n",
    "def is_required(model: Type[BaseModel], field_name: str) -> bool:\n",
    "    \"\"\"Check if the given Pydantic field is required/mandatory.\"\"\"\n",
    "    return get_field_info(model, field_name).is_required()\n",
    "\n",
    "\n",
    "def has_default_factory(model: Type[BaseModel], field_name: str) -> bool:\n",
    "    \"\"\"Check if the field has a `default_factory` set.\"\"\"\n",
    "    return get_field_info(model, field_name).default_factory is not None\n",
    "\n",
    "\n",
    "def _test_field_serializability(field: FieldInfo) -> bool:\n",
    "    \"\"\"Test JSON serializability for the given Pydantic `FieldInfo`.\"\"\"\n",
    "    model_config = ConfigDict(arbitrary_types_allowed=True)\n",
    "\n",
    "    try:\n",
    "        field_args = (field.annotation, field.default)\n",
    "        model = create_model('_', __config__=model_config, test_field=field_args)\n",
    "        model.model_json_schema()\n",
    "    except Exception:  # noqa: BLE001\n",
    "        return False\n",
    "    else:\n",
    "        return True\n",
    "\n",
    "\n",
    "def _is_json_serializable(field: FieldInfo) -> bool:\n",
    "    \"\"\"Ensure JSON serializability for the given Pydantic `FieldInfo`.\"\"\"\n",
    "    with warnings.catch_warnings():\n",
    "        warnings.simplefilter('ignore')\n",
    "        return _test_field_serializability(field)\n",
    "\n",
    "\n",
    "def is_json_serializable(model: Type[BaseModel], field_name: str) -> bool:\n",
    "    \"\"\"Check if the given Pydantic field is JSON serializable.\"\"\"\n",
    "    field = get_field_info(model, field_name)\n",
    "    return _is_json_serializable(field)\n",
    "\n",
    "\n",
    "def get_non_json_serializable_fields(model: Type[BaseModel]) -> List[str]:\n",
    "    \"\"\"Get all fields that can't be safely JSON serialized.\"\"\"\n",
    "    return [name for name in get_field_names(model) if not is_json_serializable(model, name)]\n",
    "\n",
    "\n",
    "\n",
    "\n",
    "def _extract_class_name(func: Callable) -> Optional[str]:\n",
    "    \"\"\"Extract the class name from a function's qualified name, if applicable.\"\"\"\n",
    "    qualname_parts = func.__qualname__.split('.')\n",
    "    if len(qualname_parts) > 1:\n",
    "        return qualname_parts[-2]\n",
    "    return None\n",
    "\n",
    "\n",
    "def get_field_validator_mapping(model: Type[BaseModel]) -> Dict[str, List[Dict[str, Any]]]:\n",
    "    \"\"\"Collect all available validators keyed by their corresponding fields including post/pre root validators.\"\"\"\n",
    "    mapping: Dict[str, List[Dict[str, Any]]] = defaultdict(list)\n",
    "    validators = get_validators(model)\n",
    "\n",
    "    for validator in validators:\n",
    "        field_name = validator['field']\n",
    "        mapping[field_name].append(validator)\n",
    "\n",
    "    return mapping\n",
    "\n",
    "\n",
    "def get_validator_field_maps(model: Type[BaseModel]) -> List[Dict[str, Any]]:\n",
    "    \"\"\"Get all validator-field mappings for the given Pydantic model.\"\"\"\n",
    "    mapping = get_field_validator_mapping(model)\n",
    "    validator_field_maps = []\n",
    "\n",
    "    for field_name, validators in mapping.items():\n",
    "        for validator in validators:\n",
    "            validator_field_map = {\n",
    "                'field_name': field_name,\n",
    "                'validator_name': validator['name'],\n",
    "                'field_ref': f'{model.__name__}.model_fields.{field_name}',\n",
    "                'validator_ref': validator['object_path']\n",
    "            }\n",
    "            validator_field_maps.append(validator_field_map)\n",
    "\n",
    "    return validator_field_maps\n",
    "\n",
    "\n",
    "def is_validator_by_name(name: str, obj: Any) -> bool:\n",
    "    \"\"\"Determine if a validator with the given `name` is present in the `obj` model.\"\"\"\n",
    "    if is_pydantic_model(obj):\n",
    "        validators = get_validators(obj)\n",
    "        return any(validator['name'] == name for validator in validators)\n",
    "    return False\n",
    "\n",
    "\n",
    "\n",
    "# ----------------------------\n",
    "# Example Usage\n",
    "# ----------------------------\n",
    "\n",
    "# Assuming you have a Pydantic model like this:\n",
    "class ExampleModel(BaseModel):\n",
    "    name: str\n",
    "    age: int = Field(..., ge=0)\n",
    "    email: Optional[str] = None\n",
    "\n",
    "# Retrieve field names\n",
    "field_names = get_field_names(ExampleModel)\n",
    "print(\"Field Names:\", field_names)\n",
    "\n",
    "# Get field info\n",
    "field_info = get_field_info(ExampleModel, 'age')\n",
    "print(\"Field Info for 'age':\", field_info)\n",
    "\n",
    "# Get alias or name\n",
    "alias_or_name = get_alias_or_name(ExampleModel, 'age')\n",
    "print(\"Alias or Name for 'age':\", alias_or_name)\n",
    "\n",
    "# Get constraints\n",
    "constraints = get_constraints(ExampleModel, 'age')\n",
    "print(\"Constraints for 'age':\", constraints)\n",
    "\n",
    "# Check if a field is required\n",
    "required = is_required(ExampleModel, 'name')\n",
    "print(\"Is 'name' required?\", required)\n",
    "\n",
    "# Check if a field has a default factory\n",
    "default_factory = has_default_factory(ExampleModel, 'email')\n",
    "print(\"Does 'email' have a default factory?\", default_factory)\n",
    "\n",
    "# Check JSON serializability\n",
    "json_serializable = is_json_serializable(ExampleModel, 'email')\n",
    "print(\"Is 'email' JSON serializable?\", json_serializable)\n",
    "\n",
    "# Get non-JSON serializable fields\n",
    "non_serializable = get_non_json_serializable_fields(ExampleModel)\n",
    "print(\"Non-JSON Serializable Fields:\", non_serializable)\n",
    "\n",
    "# Get validators\n",
    "validators = get_validators(ExampleModel)\n",
    "for validator in validators:\n",
    "    print(f\"Validator: {validator['name']}, Module: {validator['module']}\")\n",
    "\n",
    "# Get validator-field mappings\n",
    "validator_field_maps = get_validator_field_maps(ExampleModel)\n",
    "for mapping in validator_field_maps:\n",
    "    print(f\"Field: {mapping['field_name']}, Validator: {mapping['validator_name']}, \"\n",
    "          f\"Field Ref: {mapping['field_ref']}, Validator Ref: {mapping['validator_ref']}\")\n",
    "\n",
    "# Check if a specific validator exists\n",
    "has_name_validator = is_validator_by_name('name_must_not_be_empty', ExampleModel)\n",
    "print(\"Has 'name_must_not_be_empty' validator:\", has_name_validator)\n"
   ]
  },
  {
   "cell_type": "code",
   "execution_count": 79,
   "id": "c54cef8c-657b-4b75-ae21-f9e297d10723",
   "metadata": {},
   "outputs": [
    {
     "name": "stdout",
     "output_type": "stream",
     "text": [
      "{'name': 'Mass', 'types': 'float', 'description': 'The mass of the object', 'default': '1.0', 'math': 'm', 'unit': 'kg'}\n",
      "{'name': 'Name', 'types': 'str', 'description': 'The name of the object', 'default': 'Unnamed'}\n"
     ]
    }
   ],
   "source": [
    "from docutils import nodes\n",
    "from typing import List\n",
    "from autoflex.types import PropertyTypes\n",
    "\n",
    "def create_property_table(properties: List[PropertyTypes]):\n",
    "    # Define a list of table columns\n",
    "    table_head = [\n",
    "        [\"Name\", \"Description\"],\n",
    "        [\"Units\", \"Symbolic\", \"Types\", \"Default\"]\n",
    "    ]\n",
    "\n",
    "    # Create the table node\n",
    "    table = nodes.table()\n",
    "    tgroup = nodes.tgroup(cols=4)\n",
    "    table += tgroup\n",
    "\n",
    "    # Define column specifications\n",
    "    for _ in range(4):\n",
    "        tgroup += nodes.colspec(colwidth=1)\n",
    "\n",
    "    thead = nodes.thead()\n",
    "    tgroup += thead\n",
    "    tbody = nodes.tbody()\n",
    "    tgroup += tbody\n",
    "\n",
    "    # Fill in the header rows\n",
    "    for head_row in table_head:\n",
    "        row = nodes.row()\n",
    "        for header in head_row:\n",
    "            entry = nodes.entry()\n",
    "            entry += nodes.paragraph(text=header)\n",
    "            row += entry\n",
    "        thead += row\n",
    "\n",
    "    # Fill in the property rows\n",
    "    for prop in properties:\n",
    "        print(prop)\n",
    "        row = nodes.row()\n",
    "        # Add property name\n",
    "        entry = nodes.entry()\n",
    "        entry += nodes.paragraph(text=prop[\"name\"])\n",
    "        row += entry\n",
    "\n",
    "        # Add property description\n",
    "        entry = nodes.entry()\n",
    "        entry += nodes.paragraph(text=prop[\"description\"])\n",
    "        row += entry\n",
    "\n",
    "        # Add units (if it's a PhysicalProperty)\n",
    "        # Check if it's a PhysicalProperty by checking for `math` and `unit` attributes\n",
    "        if hasattr(prop, 'math') and hasattr(prop, 'unit'):\n",
    "            # Add units\n",
    "            entry = nodes.entry()\n",
    "            entry += nodes.paragraph(text=str(prop.unit))\n",
    "            row += entry\n",
    "\n",
    "            # Add symbolic\n",
    "            entry = nodes.entry()\n",
    "            entry += nodes.paragraph(text=str(prop.math))\n",
    "            row += entry\n",
    "        else:\n",
    "            # Add empty cells for units and symbolic if it's not a PhysicalProperty\n",
    "            entry = nodes.entry()\n",
    "            entry += nodes.paragraph(text=\"\")\n",
    "            row += entry\n",
    "\n",
    "            entry = nodes.entry()\n",
    "            entry += nodes.paragraph(text=\"\")\n",
    "            row += entry\n",
    "\n",
    "        # Add types\n",
    "        entry = nodes.entry()\n",
    "        entry += nodes.paragraph(text=prop[\"types\"])\n",
    "        row += entry\n",
    "\n",
    "        # Add default\n",
    "        entry = nodes.entry()\n",
    "        entry += nodes.paragraph(text=prop[\"default\"])\n",
    "        row += entry\n",
    "\n",
    "        # Append row to the body\n",
    "        tbody += row\n",
    "\n",
    "    return table\n",
    "\n",
    "# Example usage\n",
    "properties = [\n",
    "    PhysicalProperty(name=\"Mass\", types=\"float\", description=\"The mass of the object\", default=\"1.0\", math=\"m\", unit=\"kg\"),\n",
    "    Property(name=\"Name\", types=\"str\", description=\"The name of the object\", default=\"Unnamed\")\n",
    "]\n",
    "\n",
    "table_node = create_property_table(properties)"
   ]
  },
  {
   "cell_type": "code",
   "execution_count": 88,
   "id": "ac4882da-6c3b-4985-8a1f-ce4e9ee259a0",
   "metadata": {},
   "outputs": [
    {
     "data": {
      "text/plain": [
       "<table: <tgroup...>>"
      ]
     },
     "execution_count": 88,
     "metadata": {},
     "output_type": "execute_result"
    }
   ],
   "source": [
    "table_node"
   ]
  },
  {
   "cell_type": "code",
   "execution_count": null,
   "id": "f4c90914-1693-41e0-9d49-ee183c247d82",
   "metadata": {},
   "outputs": [],
   "source": []
  }
 ],
 "metadata": {
  "kernelspec": {
   "display_name": "Python 3 (ipykernel)",
   "language": "python",
   "name": "python3"
  },
  "language_info": {
   "codemirror_mode": {
    "name": "ipython",
    "version": 3
   },
   "file_extension": ".py",
   "mimetype": "text/x-python",
   "name": "python",
   "nbconvert_exporter": "python",
   "pygments_lexer": "ipython3",
   "version": "3.11.9"
  }
 },
 "nbformat": 4,
 "nbformat_minor": 5
}
