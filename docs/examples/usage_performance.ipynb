{
 "cells": [
  {
   "cell_type": "code",
   "execution_count": 2,
   "id": "ecd08dd3-75f6-4293-8ee4-3ece6f0e0507",
   "metadata": {},
   "outputs": [],
   "source": [
    "import pydantic as pd2\n",
    "import pydantic as pd\n",
    "import pydantic.v1 as pd1\n",
    "import sys"
   ]
  },
  {
   "cell_type": "markdown",
   "id": "d9a7419c-8c9e-4352-97d4-ca756fd879a9",
   "metadata": {},
   "source": [
    "In order to understand the performance cost of using a docs schema, let's write some tests:"
   ]
  },
  {
   "cell_type": "code",
   "execution_count": 3,
   "id": "aec54c32-758f-48d2-8ab0-53515c21384f",
   "metadata": {},
   "outputs": [
    {
     "data": {
      "text/plain": [
       "MyBaseClass(a='', b='')"
      ]
     },
     "execution_count": 3,
     "metadata": {},
     "output_type": "execute_result"
    }
   ],
   "source": [
    "class MyBaseClass(pd.BaseModel):\n",
    "    \"\"\"\n",
    "    Test documentation\n",
    "    \"\"\"\n",
    "    \n",
    "    a: str = \"\"\n",
    "    \"\"\"\n",
    "    Example Description\n",
    "    \"\"\"\n",
    "    \n",
    "    b: str = pd.Field(default=\"\", description=\"Example Description\")\n",
    "\n",
    "our_class = MyBaseClass()\n",
    "our_class"
   ]
  },
  {
   "cell_type": "markdown",
   "id": "a71b16ce-7fc9-408a-83b6-c52ce6983f97",
   "metadata": {},
   "source": [
    "So the goal is that we want a function that can compile into a structure."
   ]
  },
  {
   "cell_type": "code",
   "execution_count": 4,
   "id": "3291f36f-042a-4e7e-88e0-59a99e3fe574",
   "metadata": {},
   "outputs": [
    {
     "name": "stdout",
     "output_type": "stream",
     "text": [
      "a_class_attribute memory: 49\n",
      "b_class_attribute memory: 49\n"
     ]
    }
   ],
   "source": [
    "# Calculate the memory cost\n",
    "a_class_attribute_memory_cost = sys.getsizeof(our_class.a)\n",
    "b_class_attribute_memory_cost = sys.getsizeof(our_class.b)\n",
    "print(f\"a_class_attribute memory: {a_class_attribute_memory_cost}\")\n",
    "print(f\"b_class_attribute memory: {b_class_attribute_memory_cost}\")"
   ]
  },
  {
   "cell_type": "code",
   "execution_count": 5,
   "id": "0218d67d-1f97-4b35-bf1d-837be832c76c",
   "metadata": {},
   "outputs": [
    {
     "data": {
      "text/plain": [
       "{'a': str, 'b': str}"
      ]
     },
     "execution_count": 5,
     "metadata": {},
     "output_type": "execute_result"
    }
   ],
   "source": [
    "our_class.__annotations__"
   ]
  },
  {
   "cell_type": "markdown",
   "id": "f44d3dd1-e4f0-4e65-9ab4-3bb36d859cd9",
   "metadata": {},
   "source": [
    "So there's a few options of what we can do here. We could create a higher-dimensional `pd.Field` that can be compiled into a better documentation representation which is more complete."
   ]
  },
  {
   "cell_type": "code",
   "execution_count": 6,
   "id": "aef7a6ed-057b-4eef-917c-32df69e667b2",
   "metadata": {},
   "outputs": [],
   "source": [
    "example_default = \"\"\n",
    "example_basic_field = pd.Field(default=\"\")"
   ]
  },
  {
   "cell_type": "markdown",
   "id": "6be81465-6744-467e-b139-cebc822925df",
   "metadata": {},
   "source": [
    "Let's analyse the memory aspect of this data representation:"
   ]
  },
  {
   "cell_type": "code",
   "execution_count": 7,
   "id": "ad1cb4cf-6718-42e0-9855-12793132a1a2",
   "metadata": {},
   "outputs": [
    {
     "name": "stdout",
     "output_type": "stream",
     "text": [
      "a_class_attribute memory: 49\n",
      "b_class_attribute memory: 216\n"
     ]
    }
   ],
   "source": [
    "# Calculate the memory cost\n",
    "default_string_memory_cost = sys.getsizeof(example_default)\n",
    "default_field_memory_cost = sys.getsizeof(example_basic_field)\n",
    "print(f\"a_class_attribute memory: {default_string_memory_cost}\")\n",
    "print(f\"b_class_attribute memory: {default_field_memory_cost}\")"
   ]
  },
  {
   "cell_type": "markdown",
   "id": "f3722d38-9675-44a1-a946-3b8c50773765",
   "metadata": {},
   "source": [
    "So we can clearly tell there's a difference here. It's interesting because we can tell that even though the actual declaration on its own does have 4x higher memory cost, at the instantiation default level it is equivalent.\n",
    "\n",
    "So if anything we can look inside annotations of each class and compile the documentation from there."
   ]
  },
  {
   "cell_type": "code",
   "execution_count": 8,
   "id": "6d45eb57-741a-478f-a899-7ca52f6b970c",
   "metadata": {},
   "outputs": [
    {
     "data": {
      "text/plain": [
       "FieldInfo(annotation=NoneType, required=False, default='')"
      ]
     },
     "execution_count": 8,
     "metadata": {},
     "output_type": "execute_result"
    }
   ],
   "source": [
    "example_basic_field"
   ]
  },
  {
   "cell_type": "code",
   "execution_count": 9,
   "id": "7d817220-2bef-43c3-ac7a-ae15d99fe5e6",
   "metadata": {},
   "outputs": [
    {
     "data": {
      "text/plain": [
       "{'annotation': 'type[Any] | None',\n",
       " 'default': 'Any',\n",
       " 'default_factory': 'typing.Callable[[], Any] | None',\n",
       " 'alias': 'str | None',\n",
       " 'alias_priority': 'int | None',\n",
       " 'validation_alias': 'str | AliasPath | AliasChoices | None',\n",
       " 'serialization_alias': 'str | None',\n",
       " 'title': 'str | None',\n",
       " 'field_title_generator': 'typing.Callable[[str, FieldInfo], str] | None',\n",
       " 'description': 'str | None',\n",
       " 'examples': 'list[Any] | None',\n",
       " 'exclude': 'bool | None',\n",
       " 'discriminator': 'str | types.Discriminator | None',\n",
       " 'deprecated': 'Deprecated | str | bool | None',\n",
       " 'json_schema_extra': 'JsonDict | typing.Callable[[JsonDict], None] | None',\n",
       " 'frozen': 'bool | None',\n",
       " 'validate_default': 'bool | None',\n",
       " 'repr': 'bool',\n",
       " 'init': 'bool | None',\n",
       " 'init_var': 'bool | None',\n",
       " 'kw_only': 'bool | None',\n",
       " 'metadata': 'list[Any]',\n",
       " 'metadata_lookup': 'ClassVar[dict[str, typing.Callable[[Any], Any] | None]]'}"
      ]
     },
     "execution_count": 9,
     "metadata": {},
     "output_type": "execute_result"
    }
   ],
   "source": [
    "example_basic_field.__annotations__"
   ]
  },
  {
   "cell_type": "code",
   "execution_count": 10,
   "id": "763ce5f5-2859-4405-b5b8-903d76583e7e",
   "metadata": {},
   "outputs": [],
   "source": [
    "import tidy3d"
   ]
  },
  {
   "cell_type": "code",
   "execution_count": 11,
   "id": "c33b3568-0ba5-418d-ac2d-b88b4ca7da9f",
   "metadata": {},
   "outputs": [
    {
     "data": {
      "text/plain": [
       "{'boundary_spec': 'BoundarySpec',\n",
       " 'courant': 'float',\n",
       " 'lumped_elements': 'Tuple[LumpedElementType, ...]',\n",
       " 'grid_spec': 'GridSpec',\n",
       " 'medium': 'MediumType3D',\n",
       " 'normalize_index': 'Union[pydantic.NonNegativeInt, None]',\n",
       " 'monitors': 'Tuple[annotate_type(MonitorType), ...]',\n",
       " 'sources': 'Tuple[annotate_type(SourceType), ...]',\n",
       " 'shutoff': 'pydantic.NonNegativeFloat',\n",
       " 'structures': 'Tuple[Structure, ...]',\n",
       " 'symmetry': 'Tuple[Symmetry, Symmetry, Symmetry]',\n",
       " 'run_time': 'Union[pydantic.PositiveFloat, RunTimeSpec]'}"
      ]
     },
     "execution_count": 11,
     "metadata": {},
     "output_type": "execute_result"
    }
   ],
   "source": [
    "tidy3d.Simulation.__annotations__"
   ]
  },
  {
   "cell_type": "markdown",
   "id": "4932b79c-6fc9-4d97-822f-1e2e36485c6b",
   "metadata": {},
   "source": [
    "The problem with this is that it only contains the types of the annotations, it does not contain the actual meaning. We can verify if this is the same for the attribute declaration"
   ]
  },
  {
   "cell_type": "code",
   "execution_count": 12,
   "id": "323ba61d-a050-470e-a8d0-554e89fc6568",
   "metadata": {},
   "outputs": [
    {
     "data": {
      "text/plain": [
       "{'a': str, 'b': str}"
      ]
     },
     "execution_count": 12,
     "metadata": {},
     "output_type": "execute_result"
    }
   ],
   "source": [
    "# our_class.a.__annotations__ # Doesn't work\n",
    "# our_class.b.__annotations__ # Doesn't work\n",
    "our_class.__annotations__"
   ]
  },
  {
   "cell_type": "markdown",
   "id": "4015acef-e336-4786-b707-aa3a83f5f1a0",
   "metadata": {},
   "source": [
    "So it is concievable we can overwrite the annotations of a class attribute. However, it is interesting that the field description is not directly accessible from the class instantiation.\n",
    "\n",
    "So we can improve the documentation based on assigning this type of elements. We could extract the class definition from there in principle. However, clearly we have an issue which is where does the actual documentation data get contained.\n",
    "\n",
    "We can extract the json schema defaults and variables from the `model_json_schema` attribute of the pydantic class."
   ]
  },
  {
   "cell_type": "code",
   "execution_count": 13,
   "id": "37bfd396-ae18-4041-905c-54ffcd1d08b7",
   "metadata": {},
   "outputs": [
    {
     "data": {
      "text/plain": [
       "{'description': 'Test documentation',\n",
       " 'properties': {'a': {'default': '', 'title': 'A', 'type': 'string'},\n",
       "  'b': {'default': '',\n",
       "   'description': 'Example Description',\n",
       "   'title': 'B',\n",
       "   'type': 'string'}},\n",
       " 'title': 'MyBaseClass',\n",
       " 'type': 'object'}"
      ]
     },
     "execution_count": 13,
     "metadata": {},
     "output_type": "execute_result"
    }
   ],
   "source": [
    "from pydantic.fields import FieldInfo\n",
    "from pydantic import BaseModel\n",
    "\n",
    "def check_json_schema_extra(field: FieldInfo) -> bool:\n",
    "    \"\"\"Check if the FieldInfo contains a 'json_schema_extra' parameter.\"\"\"\n",
    "    return hasattr(field, 'json_schema_extra') and field.json_schema_extra is not None\n",
    "\n",
    "\n",
    "\n",
    "def determine_pydantic_version_from_base_model(model: BaseModel):\n",
    "    \"\"\"Determine if a BaseModel is from Pydantic v1 or v2.\"\"\"\n",
    "    if hasattr(model, 'model_fields'):\n",
    "        return 2\n",
    "    elif hasattr(model, '__fields__'):\n",
    "        return 1\n",
    "    else:\n",
    "        raise ValueError(\"Unknown Pydantic version or incompatible BaseModel class.\")\n",
    "\n",
    "\n",
    "def get_field_infos(model: BaseModel):\n",
    "    \"\"\"Get all FieldInfo instances from a Pydantic model, compatible with v1 and v2.\"\"\"\n",
    "    version = determine_pydantic_version_from_base_model(model)\n",
    "\n",
    "    field_infos = []\n",
    "\n",
    "    # Handle Pydantic v2\n",
    "    if version == 2:\n",
    "        for field_name, field in model.model_fields.items():\n",
    "            field_infos.append(field)\n",
    "\n",
    "    # Handle Pydantic v1\n",
    "    elif version == 1:\n",
    "        for field_name, field in model.__fields__.items():\n",
    "            field_infos.append(field)\n",
    "\n",
    "    return field_infos\n",
    "\n",
    "our_class.model_json_schema()"
   ]
  },
  {
   "cell_type": "markdown",
   "id": "eeab0d0e-09a3-40fe-9a3b-036e8ffa8694",
   "metadata": {},
   "source": [
    "So when we go and define the parameters we want on our parameter table:"
   ]
  },
  {
   "cell_type": "markdown",
   "id": "40517e5d-abba-4c6e-bb45-84f2a4aa31d9",
   "metadata": {},
   "source": [
    "```\n",
    "Units\n",
    "Description\n",
    "Type\n",
    "Equation\n",
    "```"
   ]
  },
  {
   "cell_type": "markdown",
   "id": "d5fac3fe-87a4-4047-b94f-48da10909fb1",
   "metadata": {},
   "source": [
    "We need to then evaluate how to define this in a standardized way, and where this gets extracted from.\n",
    "\n",
    "So we've been analyzing the `__annotations__` and the provided json schema, it can be seen that a `pydantic.Field` contains hte example description and relevant information in the way we want. So it makes sense to create a higher dimensional version of the `pydantic.Field` and use this to annotate. We can then extract the information from there and compile each field in the particular format enabled by the extension. So we provide a full cycle of the implementation strategy."
   ]
  },
  {
   "cell_type": "code",
   "execution_count": 51,
   "id": "a7c5de53-46e1-45aa-b4ec-43d03bb9b582",
   "metadata": {},
   "outputs": [],
   "source": [
    "# help(pd.fields.Field)\n",
    "afield = pd.fields.Field(\n",
    "    json_schema_extra={\n",
    "        \"unit\": \"ms\",\n",
    "        \"math\": \"s + 1\"\n",
    "}\n",
    ")"
   ]
  },
  {
   "cell_type": "code",
   "execution_count": 55,
   "id": "5662e952-9c19-4808-9632-502659dc4165",
   "metadata": {},
   "outputs": [
    {
     "data": {
      "text/plain": [
       "<function pydantic.fields.FieldInfo._extract_metadata(annotation: 'type[Any] | None') -> 'tuple[type[Any] | None, list[Any]]'>"
      ]
     },
     "execution_count": 55,
     "metadata": {},
     "output_type": "execute_result"
    }
   ],
   "source": [
    "afield._extract_metadata"
   ]
  },
  {
   "cell_type": "code",
   "execution_count": 57,
   "id": "a887ffea-759f-46e0-aa2e-925192724c8a",
   "metadata": {},
   "outputs": [
    {
     "data": {
      "text/plain": [
       "{'a': FieldInfo(annotation=str, required=False, default=''),\n",
       " 'b': FieldInfo(annotation=str, required=False, default='', description='Example Description')}"
      ]
     },
     "execution_count": 57,
     "metadata": {},
     "output_type": "execute_result"
    }
   ],
   "source": [
    "our_class.model_fields"
   ]
  },
  {
   "cell_type": "code",
   "execution_count": 58,
   "id": "d89a9e28-c539-4800-8e2a-117854a7bd62",
   "metadata": {},
   "outputs": [
    {
     "data": {
      "text/plain": [
       "{'a': str, 'b': str}"
      ]
     },
     "execution_count": 58,
     "metadata": {},
     "output_type": "execute_result"
    }
   ],
   "source": [
    "our_class.__annotations__"
   ]
  },
  {
   "cell_type": "code",
   "execution_count": 63,
   "id": "f9392965-e8fa-4d1f-80e5-5b9f695d9e10",
   "metadata": {},
   "outputs": [
    {
     "data": {
      "text/plain": [
       "\"str(object='') -> str\\nstr(bytes_or_buffer[, encoding[, errors]]) -> str\\n\\nCreate a new string object from the given object. If encoding or\\nerrors is specified, then the object must expose a data buffer\\nthat will be decoded using the given encoding and error handler.\\nOtherwise, returns the result of object.__str__() (if defined)\\nor repr(object).\\nencoding defaults to sys.getdefaultencoding().\\nerrors defaults to 'strict'.\""
      ]
     },
     "execution_count": 63,
     "metadata": {},
     "output_type": "execute_result"
    }
   ],
   "source": [
    "our_class.a.__doc__"
   ]
  },
  {
   "cell_type": "code",
   "execution_count": 15,
   "id": "a7089d29-26cb-4c80-b32b-b25609d59481",
   "metadata": {},
   "outputs": [
    {
     "data": {
      "text/plain": [
       "['__annotations__',\n",
       " '__class__',\n",
       " '__delattr__',\n",
       " '__dir__',\n",
       " '__doc__',\n",
       " '__eq__',\n",
       " '__format__',\n",
       " '__ge__',\n",
       " '__getattribute__',\n",
       " '__getstate__',\n",
       " '__gt__',\n",
       " '__hash__',\n",
       " '__init__',\n",
       " '__init_subclass__',\n",
       " '__le__',\n",
       " '__lt__',\n",
       " '__module__',\n",
       " '__ne__',\n",
       " '__new__',\n",
       " '__pretty__',\n",
       " '__reduce__',\n",
       " '__reduce_ex__',\n",
       " '__repr__',\n",
       " '__repr_args__',\n",
       " '__repr_name__',\n",
       " '__repr_str__',\n",
       " '__rich_repr__',\n",
       " '__setattr__',\n",
       " '__sizeof__',\n",
       " '__slotnames__',\n",
       " '__slots__',\n",
       " '__str__',\n",
       " '__subclasshook__',\n",
       " '_attributes_set',\n",
       " '_collect_metadata',\n",
       " '_extract_metadata',\n",
       " '_from_dataclass_field',\n",
       " 'alias',\n",
       " 'alias_priority',\n",
       " 'annotation',\n",
       " 'apply_typevars_map',\n",
       " 'default',\n",
       " 'default_factory',\n",
       " 'deprecated',\n",
       " 'deprecation_message',\n",
       " 'description',\n",
       " 'discriminator',\n",
       " 'examples',\n",
       " 'exclude',\n",
       " 'field_title_generator',\n",
       " 'from_annotated_attribute',\n",
       " 'from_annotation',\n",
       " 'from_field',\n",
       " 'frozen',\n",
       " 'get_default',\n",
       " 'init',\n",
       " 'init_var',\n",
       " 'is_required',\n",
       " 'json_schema_extra',\n",
       " 'kw_only',\n",
       " 'merge_field_infos',\n",
       " 'metadata',\n",
       " 'metadata_lookup',\n",
       " 'rebuild_annotation',\n",
       " 'repr',\n",
       " 'serialization_alias',\n",
       " 'title',\n",
       " 'validate_default',\n",
       " 'validation_alias']"
      ]
     },
     "execution_count": 15,
     "metadata": {},
     "output_type": "execute_result"
    }
   ],
   "source": [
    "test_extra_fieldinfo = pd.fields.FieldInfo(test=1)\n",
    "dir(test_extra_fieldinfo)"
   ]
  },
  {
   "cell_type": "code",
   "execution_count": 44,
   "id": "69de16a0-2002-49eb-9be8-4c15b879b41e",
   "metadata": {},
   "outputs": [
    {
     "data": {
      "text/plain": [
       "FieldInfo(annotation=NoneType, required=True)"
      ]
     },
     "execution_count": 44,
     "metadata": {},
     "output_type": "execute_result"
    }
   ],
   "source": [
    "test_extra_fieldinfo"
   ]
  },
  {
   "cell_type": "code",
   "execution_count": 17,
   "id": "61fbb607-0b7b-43e6-932b-362d8b694ee7",
   "metadata": {
    "scrolled": true
   },
   "outputs": [
    {
     "name": "stdout",
     "output_type": "stream",
     "text": [
      "Help on class FieldInfo in module pydantic.fields:\n",
      "\n",
      "class FieldInfo(pydantic._internal._repr.Representation)\n",
      " |  FieldInfo(**kwargs: 'Unpack[_FieldInfoInputs]') -> 'None'\n",
      " |  \n",
      " |  This class holds information about a field.\n",
      " |  \n",
      " |  `FieldInfo` is used for any field definition regardless of whether the [`Field()`][pydantic.fields.Field]\n",
      " |  function is explicitly used.\n",
      " |  \n",
      " |  !!! warning\n",
      " |      You generally shouldn't be creating `FieldInfo` directly, you'll only need to use it when accessing\n",
      " |      [`BaseModel`][pydantic.main.BaseModel] `.model_fields` internals.\n",
      " |  \n",
      " |  Attributes:\n",
      " |      annotation: The type annotation of the field.\n",
      " |      default: The default value of the field.\n",
      " |      default_factory: The factory function used to construct the default for the field.\n",
      " |      alias: The alias name of the field.\n",
      " |      alias_priority: The priority of the field's alias.\n",
      " |      validation_alias: The validation alias of the field.\n",
      " |      serialization_alias: The serialization alias of the field.\n",
      " |      title: The title of the field.\n",
      " |      field_title_generator: A callable that takes a field name and returns title for it.\n",
      " |      description: The description of the field.\n",
      " |      examples: List of examples of the field.\n",
      " |      exclude: Whether to exclude the field from the model serialization.\n",
      " |      discriminator: Field name or Discriminator for discriminating the type in a tagged union.\n",
      " |      deprecated: A deprecation message, an instance of `warnings.deprecated` or the `typing_extensions.deprecated` backport,\n",
      " |          or a boolean. If `True`, a default deprecation message will be emitted when accessing the field.\n",
      " |      json_schema_extra: A dict or callable to provide extra JSON schema properties.\n",
      " |      frozen: Whether the field is frozen.\n",
      " |      validate_default: Whether to validate the default value of the field.\n",
      " |      repr: Whether to include the field in representation of the model.\n",
      " |      init: Whether the field should be included in the constructor of the dataclass.\n",
      " |      init_var: Whether the field should _only_ be included in the constructor of the dataclass, and not stored.\n",
      " |      kw_only: Whether the field should be a keyword-only argument in the constructor of the dataclass.\n",
      " |      metadata: List of metadata constraints.\n",
      " |  \n",
      " |  Method resolution order:\n",
      " |      FieldInfo\n",
      " |      pydantic._internal._repr.Representation\n",
      " |      builtins.object\n",
      " |  \n",
      " |  Methods defined here:\n",
      " |  \n",
      " |  __init__(self, **kwargs: 'Unpack[_FieldInfoInputs]') -> 'None'\n",
      " |      This class should generally not be initialized directly; instead, use the `pydantic.fields.Field` function\n",
      " |      or one of the constructor classmethods.\n",
      " |      \n",
      " |      See the signature of `pydantic.fields.Field` for more details about the expected arguments.\n",
      " |  \n",
      " |  __repr_args__(self) -> 'ReprArgs'\n",
      " |      Returns the attributes to show in __str__, __repr__, and __pretty__ this is generally overridden.\n",
      " |      \n",
      " |      Can either return:\n",
      " |      * name - value pairs, e.g.: `[('foo_name', 'foo'), ('bar_name', ['b', 'a', 'r'])]`\n",
      " |      * or, just values, e.g.: `[(None, 'foo'), (None, ['b', 'a', 'r'])]`\n",
      " |  \n",
      " |  apply_typevars_map(self, typevars_map: 'dict[Any, Any] | None', types_namespace: 'dict[str, Any] | None') -> 'None'\n",
      " |      Apply a `typevars_map` to the annotation.\n",
      " |      \n",
      " |      This method is used when analyzing parametrized generic types to replace typevars with their concrete types.\n",
      " |      \n",
      " |      This method applies the `typevars_map` to the annotation in place.\n",
      " |      \n",
      " |      Args:\n",
      " |          typevars_map: A dictionary mapping type variables to their concrete types.\n",
      " |          types_namespace (dict | None): A dictionary containing related types to the annotated type.\n",
      " |      \n",
      " |      See Also:\n",
      " |          pydantic._internal._generics.replace_types is used for replacing the typevars with\n",
      " |              their concrete types.\n",
      " |  \n",
      " |  get_default(self, *, call_default_factory: 'bool' = False) -> 'Any'\n",
      " |      Get the default value.\n",
      " |      \n",
      " |      We expose an option for whether to call the default_factory (if present), as calling it may\n",
      " |      result in side effects that we want to avoid. However, there are times when it really should\n",
      " |      be called (namely, when instantiating a model via `model_construct`).\n",
      " |      \n",
      " |      Args:\n",
      " |          call_default_factory: Whether to call the default_factory or not. Defaults to `False`.\n",
      " |      \n",
      " |      Returns:\n",
      " |          The default value, calling the default factory if requested or `None` if not set.\n",
      " |  \n",
      " |  is_required(self) -> 'bool'\n",
      " |      Check if the field is required (i.e., does not have a default value or factory).\n",
      " |      \n",
      " |      Returns:\n",
      " |          `True` if the field is required, `False` otherwise.\n",
      " |  \n",
      " |  rebuild_annotation(self) -> 'Any'\n",
      " |      Attempts to rebuild the original annotation for use in function signatures.\n",
      " |      \n",
      " |      If metadata is present, it adds it to the original annotation using\n",
      " |      `Annotated`. Otherwise, it returns the original annotation as-is.\n",
      " |      \n",
      " |      Note that because the metadata has been flattened, the original annotation\n",
      " |      may not be reconstructed exactly as originally provided, e.g. if the original\n",
      " |      type had unrecognized annotations, or was annotated with a call to `pydantic.Field`.\n",
      " |      \n",
      " |      Returns:\n",
      " |          The rebuilt annotation.\n",
      " |  \n",
      " |  ----------------------------------------------------------------------\n",
      " |  Static methods defined here:\n",
      " |  \n",
      " |  from_annotated_attribute(annotation: 'type[Any]', default: 'Any') -> 'FieldInfo'\n",
      " |      Create `FieldInfo` from an annotation with a default value.\n",
      " |      \n",
      " |      This is used in cases like the following:\n",
      " |      \n",
      " |      ```python\n",
      " |      import annotated_types\n",
      " |      from typing_extensions import Annotated\n",
      " |      \n",
      " |      import pydantic\n",
      " |      \n",
      " |      class MyModel(pydantic.BaseModel):\n",
      " |          foo: int = 4  # <-- like this\n",
      " |          bar: Annotated[int, annotated_types.Gt(4)] = 4  # <-- or this\n",
      " |          spam: Annotated[int, pydantic.Field(gt=4)] = 4  # <-- or this\n",
      " |      ```\n",
      " |      \n",
      " |      Args:\n",
      " |          annotation: The type annotation of the field.\n",
      " |          default: The default value of the field.\n",
      " |      \n",
      " |      Returns:\n",
      " |          A field object with the passed values.\n",
      " |  \n",
      " |  from_annotation(annotation: 'type[Any]') -> 'FieldInfo'\n",
      " |      Creates a `FieldInfo` instance from a bare annotation.\n",
      " |      \n",
      " |      This function is used internally to create a `FieldInfo` from a bare annotation like this:\n",
      " |      \n",
      " |      ```python\n",
      " |      import pydantic\n",
      " |      \n",
      " |      class MyModel(pydantic.BaseModel):\n",
      " |          foo: int  # <-- like this\n",
      " |      ```\n",
      " |      \n",
      " |      We also account for the case where the annotation can be an instance of `Annotated` and where\n",
      " |      one of the (not first) arguments in `Annotated` is an instance of `FieldInfo`, e.g.:\n",
      " |      \n",
      " |      ```python\n",
      " |      import annotated_types\n",
      " |      from typing_extensions import Annotated\n",
      " |      \n",
      " |      import pydantic\n",
      " |      \n",
      " |      class MyModel(pydantic.BaseModel):\n",
      " |          foo: Annotated[int, annotated_types.Gt(42)]\n",
      " |          bar: Annotated[int, pydantic.Field(gt=42)]\n",
      " |      ```\n",
      " |      \n",
      " |      Args:\n",
      " |          annotation: An annotation object.\n",
      " |      \n",
      " |      Returns:\n",
      " |          An instance of the field metadata.\n",
      " |  \n",
      " |  from_field(default: 'Any' = PydanticUndefined, **kwargs: 'Unpack[_FromFieldInfoInputs]') -> 'FieldInfo'\n",
      " |      Create a new `FieldInfo` object with the `Field` function.\n",
      " |      \n",
      " |      Args:\n",
      " |          default: The default value for the field. Defaults to Undefined.\n",
      " |          **kwargs: Additional arguments dictionary.\n",
      " |      \n",
      " |      Raises:\n",
      " |          TypeError: If 'annotation' is passed as a keyword argument.\n",
      " |      \n",
      " |      Returns:\n",
      " |          A new FieldInfo object with the given parameters.\n",
      " |      \n",
      " |      Example:\n",
      " |          This is how you can create a field with default value like this:\n",
      " |      \n",
      " |          ```python\n",
      " |          import pydantic\n",
      " |      \n",
      " |          class MyModel(pydantic.BaseModel):\n",
      " |              foo: int = pydantic.Field(4)\n",
      " |          ```\n",
      " |  \n",
      " |  merge_field_infos(*field_infos: 'FieldInfo', **overrides: 'Any') -> 'FieldInfo'\n",
      " |      Merge `FieldInfo` instances keeping only explicitly set attributes.\n",
      " |      \n",
      " |      Later `FieldInfo` instances override earlier ones.\n",
      " |      \n",
      " |      Returns:\n",
      " |          FieldInfo: A merged FieldInfo instance.\n",
      " |  \n",
      " |  ----------------------------------------------------------------------\n",
      " |  Readonly properties defined here:\n",
      " |  \n",
      " |  deprecation_message\n",
      " |      The deprecation message to be emitted, or `None` if not set.\n",
      " |  \n",
      " |  ----------------------------------------------------------------------\n",
      " |  Data descriptors defined here:\n",
      " |  \n",
      " |  alias\n",
      " |  \n",
      " |  alias_priority\n",
      " |  \n",
      " |  annotation\n",
      " |  \n",
      " |  default\n",
      " |  \n",
      " |  default_factory\n",
      " |  \n",
      " |  deprecated\n",
      " |  \n",
      " |  description\n",
      " |  \n",
      " |  discriminator\n",
      " |  \n",
      " |  examples\n",
      " |  \n",
      " |  exclude\n",
      " |  \n",
      " |  field_title_generator\n",
      " |  \n",
      " |  frozen\n",
      " |  \n",
      " |  init\n",
      " |  \n",
      " |  init_var\n",
      " |  \n",
      " |  json_schema_extra\n",
      " |  \n",
      " |  kw_only\n",
      " |  \n",
      " |  metadata\n",
      " |  \n",
      " |  repr\n",
      " |  \n",
      " |  serialization_alias\n",
      " |  \n",
      " |  title\n",
      " |  \n",
      " |  validate_default\n",
      " |  \n",
      " |  validation_alias\n",
      " |  \n",
      " |  ----------------------------------------------------------------------\n",
      " |  Data and other attributes defined here:\n",
      " |  \n",
      " |  __annotations__ = {'alias': 'str | None', 'alias_priority': 'int | Non...\n",
      " |  \n",
      " |  __slotnames__ = ['annotation', 'default', 'default_factory', 'alias', ...\n",
      " |  \n",
      " |  metadata_lookup = {'allow_inf_nan': None, 'coerce_numbers_to_str': Non...\n",
      " |  \n",
      " |  ----------------------------------------------------------------------\n",
      " |  Methods inherited from pydantic._internal._repr.Representation:\n",
      " |  \n",
      " |  __pretty__(self, fmt: 'typing.Callable[[Any], Any]', **kwargs: 'Any') -> 'typing.Generator[Any, None, None]'\n",
      " |      Used by devtools (https://python-devtools.helpmanual.io/) to pretty print objects.\n",
      " |  \n",
      " |  __repr__(self) -> 'str'\n",
      " |      Return repr(self).\n",
      " |  \n",
      " |  __repr_name__(self) -> 'str'\n",
      " |      Name of the instance's class, used in __repr__.\n",
      " |  \n",
      " |  __repr_str__(self, join_str: 'str') -> 'str'\n",
      " |  \n",
      " |  __rich_repr__(self) -> 'RichReprResult'\n",
      " |      Used by Rich (https://rich.readthedocs.io/en/stable/pretty.html) to pretty print objects.\n",
      " |  \n",
      " |  __str__(self) -> 'str'\n",
      " |      Return str(self).\n",
      "\n"
     ]
    }
   ],
   "source": [
    "help(pd.fields.FieldInfo)"
   ]
  },
  {
   "cell_type": "code",
   "execution_count": 18,
   "id": "b4a9de07-0f79-4fc3-b3e2-a33187e66142",
   "metadata": {},
   "outputs": [],
   "source": [
    "class PhysicalParameterV1(pd1.BaseModel):\n",
    "    units: str = \"\"\n",
    "\n",
    "class PhysicalParameterV2(pd2.BaseModel):\n",
    "    units: str = \"\""
   ]
  },
  {
   "cell_type": "code",
   "execution_count": 19,
   "id": "5f6541f0-7ee6-47a2-97d0-a7a6574d9e0e",
   "metadata": {},
   "outputs": [],
   "source": [
    "# help(pd.fields.Field)\n",
    "# pd.fields.Field(extra=PhysicalParameter())"
   ]
  },
  {
   "cell_type": "code",
   "execution_count": 20,
   "id": "46d6cbba-f04a-424e-afa6-8db0fe85fc4c",
   "metadata": {},
   "outputs": [
    {
     "data": {
      "text/plain": [
       "[ModelField(name='units', type=str, required=False, default='')]"
      ]
     },
     "execution_count": 20,
     "metadata": {},
     "output_type": "execute_result"
    }
   ],
   "source": [
    "get_field_infos(PhysicalParameterV1)"
   ]
  },
  {
   "cell_type": "code",
   "execution_count": 21,
   "id": "d47f14ff-3aaf-4654-9f2d-969c6ab27162",
   "metadata": {},
   "outputs": [
    {
     "data": {
      "text/plain": [
       "[FieldInfo(annotation=str, required=False, default='')]"
      ]
     },
     "execution_count": 21,
     "metadata": {},
     "output_type": "execute_result"
    }
   ],
   "source": [
    "get_field_infos(PhysicalParameterV2)"
   ]
  },
  {
   "cell_type": "code",
   "execution_count": 22,
   "id": "3f60ed00-d8b6-4d27-93bb-bbb7b72f2392",
   "metadata": {},
   "outputs": [],
   "source": [
    "class PhysicalFieldInfo(pd.fields.FieldInfo):\n",
    "    a: PhysicalParameterV1"
   ]
  },
  {
   "cell_type": "code",
   "execution_count": 23,
   "id": "1f9660a7-358b-4b79-9362-a6f58b5b1bd8",
   "metadata": {},
   "outputs": [
    {
     "data": {
      "text/plain": [
       "PhysicalFieldInfo(annotation=NoneType, required=True)"
      ]
     },
     "execution_count": 23,
     "metadata": {},
     "output_type": "execute_result"
    }
   ],
   "source": [
    "PhysicalFieldInfo()"
   ]
  },
  {
   "cell_type": "code",
   "execution_count": 24,
   "id": "bd8c92de-8168-490f-a368-8b2c12e2ebef",
   "metadata": {},
   "outputs": [
    {
     "data": {
      "text/plain": [
       "PhysicalFieldInfo(annotation=NoneType, required=True)"
      ]
     },
     "execution_count": 24,
     "metadata": {},
     "output_type": "execute_result"
    }
   ],
   "source": [
    "PhysicalFieldInfo()"
   ]
  },
  {
   "cell_type": "code",
   "execution_count": null,
   "id": "357d5275-e6ad-48bc-8727-fcc6e09a3e55",
   "metadata": {},
   "outputs": [],
   "source": []
  },
  {
   "cell_type": "code",
   "execution_count": null,
   "id": "c54cef8c-657b-4b75-ae21-f9e297d10723",
   "metadata": {},
   "outputs": [],
   "source": []
  }
 ],
 "metadata": {
  "kernelspec": {
   "display_name": "Python 3 (ipykernel)",
   "language": "python",
   "name": "python3"
  },
  "language_info": {
   "codemirror_mode": {
    "name": "ipython",
    "version": 3
   },
   "file_extension": ".py",
   "mimetype": "text/x-python",
   "name": "python",
   "nbconvert_exporter": "python",
   "pygments_lexer": "ipython3",
   "version": "3.11.9"
  }
 },
 "nbformat": 4,
 "nbformat_minor": 5
}
